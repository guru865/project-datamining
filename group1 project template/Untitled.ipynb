{
 "cells": [
  {
   "cell_type": "code",
   "execution_count": 2,
   "metadata": {
    "collapsed": true
   },
   "outputs": [],
   "source": [
    "consumer_key = 'DwwqPoqa9MJzMsZfzNm3Np5zA'\n",
    "consumer_secret = 'dFmoJi2fEvC1BYOUYhlCgfNPNhD9C9yTOqbM4y6ZTqusa6MWOj'\n",
    "access_token = '203164520-fjk5E8VaGPMmtywRO6C3CLWjZbxS5HiGGjca4UO6'\n",
    "access_token_secret = 'AVoNOPdYykSDsGtFj4ekbeTOGcTQBfzQvapFcOfUzU3dO'"
   ]
  },
  {
   "cell_type": "code",
   "execution_count": 15,
   "metadata": {
    "collapsed": false
   },
   "outputs": [],
   "source": [
    "from tweepy import API\n",
    "from tweepy.auth import OAuthHandler\n",
    "from tweepy import Cursor\n",
    "import csv\n",
    "auth = OAuthHandler(consumer_key, consumer_secret)\n",
    "auth.set_access_token(access_token, access_token_secret)\n",
    "\n",
    "\n",
    "api = API(auth)\n",
    "\n",
    "# Open/Create a file to append data\n",
    "csvFile = open('tweet-analysis.csv', 'a')\n",
    "#Use csv Writer\n",
    "csvWriter = csv.writer(csvFile, lineterminator='\\n')\n",
    "\n",
    "for tweet in Cursor(api.search, q=\"java||scala\", lang='en', count='10000000').items() :\n",
    "        try:\n",
    "           csvWriter.writerow([tweet.created_at, tweet.text.encode('utf-8'), tweet.lang,tweet.geo])\n",
    "        except Exception as e:\n",
    "            print(e)\n",
    "            continue"
   ]
  },
  {
   "cell_type": "code",
   "execution_count": null,
   "metadata": {
    "collapsed": true
   },
   "outputs": [],
   "source": [
    "import json\n",
    "import pandas as pd\n",
    "import matplotlib.pyplot as plt\n",
    "\n",
    "tweets_data = read.csv('twitter-analysis.csv')\n",
    "\n"
   ]
  }
 ],
 "metadata": {
  "kernelspec": {
   "display_name": "Python 3",
   "language": "python",
   "name": "python3"
  },
  "language_info": {
   "codemirror_mode": {
    "name": "ipython",
    "version": 3
   },
   "file_extension": ".py",
   "mimetype": "text/x-python",
   "name": "python",
   "nbconvert_exporter": "python",
   "pygments_lexer": "ipython3",
   "version": "3.4.3+"
  }
 },
 "nbformat": 4,
 "nbformat_minor": 0
}
